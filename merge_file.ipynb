{
 "cells": [
  {
   "cell_type": "code",
   "execution_count": 13,
   "metadata": {},
   "outputs": [],
   "source": [
    "import numpy as np\n",
    "import pandas as pd\n",
    "import os\n",
    "import glob\n",
    "import csv"
   ]
  },
  {
   "cell_type": "code",
   "execution_count": 14,
   "metadata": {},
   "outputs": [],
   "source": [
    "def merge_file(input_path, merge_output):\n",
    "    file_list=glob.glob(os.path.join(input_path,'*'))\n",
    "    with open(merge_output,'w',encoding='utf-8-sig') as f:\n",
    "        for i, file in enumerate(file_list):\n",
    "            if i==0: # 처음 파일에만 헤더 포함!\n",
    "                with open(file,'r',encoding='utf-8-sig') as f2:\n",
    "                    while True:\n",
    "                        line=f2.readline()\n",
    "                        \n",
    "                        if not line:\n",
    "                            break\n",
    "                        f.write(line)\n",
    "                file_name=file.split('\\\\')[-1]\n",
    "                print(file_name+ ' complete')\n",
    "            else:\n",
    "                with open(file,'r',encoding='utf-8-sig') as f2:\n",
    "                    n=0\n",
    "                    while True:\n",
    "                        line=f2.readline()\n",
    "                        if not line:\n",
    "                            break\n",
    "                        if n!=0:\n",
    "                            f.write(line)\n",
    "                        n+=1\n",
    "                file_name=file.split('\\\\')[-1]\n",
    "                print(file_name+ ' complete')\n",
    "    print(\"모든 파일 완료\")"
   ]
  },
  {
   "cell_type": "code",
   "execution_count": 15,
   "metadata": {
    "scrolled": false
   },
   "outputs": [
    {
     "name": "stdout",
     "output_type": "stream",
     "text": [
      "경로를 입력해주세요.(\\ 대신 \\나 /입력) :C:\\\\Users\\\\SAMSUNG\\\\Downloads\\\\drive-download-20210114T065344Z-001\\\\\n",
      "최종 파일 이름을 입력해주세요. :samsung_merge\n",
      "최종 파일 경로를 입력해주세요.(\\ 대신 \\나 /입력) :C:\\\\Users\\\\SAMSUNG\\\\Downloads\\\\drive-download-20210114T065344Z-001\\\\\n",
      "samsung_005930_100.csv complete\n",
      "samsung_005930_101.csv complete\n",
      "samsung_005930_102.csv complete\n",
      "samsung_005930_103.csv complete\n",
      "samsung_005930_104.csv complete\n",
      "samsung_005930_105.csv complete\n",
      "samsung_005930_106.csv complete\n",
      "samsung_005930_107.csv complete\n",
      "samsung_005930_108.csv complete\n",
      "samsung_005930_109.csv complete\n",
      "samsung_005930_110.csv complete\n",
      "samsung_005930_111.csv complete\n",
      "samsung_005930_112.csv complete\n",
      "samsung_005930_113.csv complete\n",
      "samsung_005930_114.csv complete\n",
      "samsung_005930_115.csv complete\n",
      "samsung_005930_116.csv complete\n",
      "samsung_005930_117.csv complete\n",
      "samsung_005930_118.csv complete\n",
      "samsung_005930_119.csv complete\n",
      "samsung_005930_120.csv complete\n",
      "samsung_005930_121.csv complete\n",
      "samsung_005930_122.csv complete\n",
      "samsung_005930_123.csv complete\n",
      "samsung_005930_42.csv complete\n",
      "samsung_005930_43.csv complete\n",
      "samsung_005930_44.csv complete\n",
      "samsung_005930_45.csv complete\n",
      "samsung_005930_46.csv complete\n",
      "samsung_005930_47.csv complete\n",
      "samsung_005930_48.csv complete\n",
      "samsung_005930_49.csv complete\n",
      "samsung_005930_50.csv complete\n",
      "samsung_005930_51.csv complete\n",
      "samsung_005930_52.csv complete\n",
      "samsung_005930_53.csv complete\n",
      "samsung_005930_54.csv complete\n",
      "samsung_005930_55.csv complete\n",
      "samsung_005930_56.csv complete\n",
      "samsung_005930_57.csv complete\n",
      "samsung_005930_58.csv complete\n",
      "samsung_005930_59.csv complete\n",
      "samsung_005930_60.csv complete\n",
      "samsung_005930_61.csv complete\n",
      "samsung_005930_62.csv complete\n",
      "samsung_005930_63.csv complete\n",
      "samsung_005930_64.csv complete\n",
      "samsung_005930_65.csv complete\n",
      "samsung_005930_66.csv complete\n",
      "samsung_005930_67.csv complete\n",
      "samsung_005930_68.csv complete\n",
      "samsung_005930_69.csv complete\n",
      "samsung_005930_70.csv complete\n",
      "samsung_005930_71.csv complete\n",
      "samsung_005930_72.csv complete\n",
      "samsung_005930_73.csv complete\n",
      "samsung_005930_74.csv complete\n",
      "samsung_005930_75.csv complete\n",
      "samsung_005930_76.csv complete\n",
      "samsung_005930_77.csv complete\n",
      "samsung_005930_78.csv complete\n",
      "samsung_005930_79.csv complete\n",
      "samsung_005930_80.csv complete\n",
      "samsung_005930_81.csv complete\n",
      "samsung_005930_82.csv complete\n",
      "samsung_005930_83.csv complete\n",
      "samsung_005930_84.csv complete\n",
      "samsung_005930_85.csv complete\n",
      "samsung_005930_86.csv complete\n",
      "samsung_005930_87.csv complete\n",
      "samsung_005930_88.csv complete\n",
      "samsung_005930_89.csv complete\n",
      "samsung_005930_90.csv complete\n",
      "samsung_005930_91.csv complete\n",
      "samsung_005930_92.csv complete\n",
      "samsung_005930_93.csv complete\n",
      "samsung_005930_94.csv complete\n",
      "samsung_005930_95.csv complete\n",
      "samsung_005930_96.csv complete\n",
      "samsung_005930_97.csv complete\n",
      "samsung_005930_98.csv complete\n",
      "samsung_005930_99.csv complete\n",
      "모든 파일 완료\n"
     ]
    }
   ],
   "source": [
    "input_path=input(\"경로를 입력해주세요.(\\ 대신 \\\\나 /입력) :\")\n",
    "output_name=input(\"최종 파일 이름을 입력해주세요. :\")\n",
    "output_path=input(\"최종 파일 경로를 입력해주세요.(\\ 대신 \\\\나 /입력) :\")\n",
    "merge_output=output_path+'\\\\'+output_name+'.csv'\n",
    "merge_file(input_path,merge_output)"
   ]
  },
  {
   "cell_type": "code",
   "execution_count": null,
   "metadata": {},
   "outputs": [],
   "source": []
  },
  {
   "cell_type": "code",
   "execution_count": null,
   "metadata": {},
   "outputs": [],
   "source": []
  },
  {
   "cell_type": "code",
   "execution_count": null,
   "metadata": {},
   "outputs": [],
   "source": []
  },
  {
   "cell_type": "code",
   "execution_count": null,
   "metadata": {},
   "outputs": [],
   "source": []
  },
  {
   "cell_type": "code",
   "execution_count": null,
   "metadata": {},
   "outputs": [],
   "source": []
  },
  {
   "cell_type": "code",
   "execution_count": null,
   "metadata": {},
   "outputs": [],
   "source": []
  },
  {
   "cell_type": "code",
   "execution_count": null,
   "metadata": {},
   "outputs": [],
   "source": []
  },
  {
   "cell_type": "code",
   "execution_count": null,
   "metadata": {},
   "outputs": [],
   "source": []
  },
  {
   "cell_type": "code",
   "execution_count": null,
   "metadata": {},
   "outputs": [],
   "source": []
  },
  {
   "cell_type": "code",
   "execution_count": null,
   "metadata": {},
   "outputs": [],
   "source": []
  }
 ],
 "metadata": {
  "hide_input": false,
  "kernelspec": {
   "display_name": "Python 3",
   "language": "python",
   "name": "python3"
  },
  "language_info": {
   "codemirror_mode": {
    "name": "ipython",
    "version": 3
   },
   "file_extension": ".py",
   "mimetype": "text/x-python",
   "name": "python",
   "nbconvert_exporter": "python",
   "pygments_lexer": "ipython3",
   "version": "3.8.5"
  },
  "toc": {
   "base_numbering": 1,
   "nav_menu": {},
   "number_sections": true,
   "sideBar": true,
   "skip_h1_title": false,
   "title_cell": "Table of Contents",
   "title_sidebar": "Contents",
   "toc_cell": false,
   "toc_position": {},
   "toc_section_display": true,
   "toc_window_display": false
  },
  "varInspector": {
   "cols": {
    "lenName": 16,
    "lenType": 16,
    "lenVar": 40
   },
   "kernels_config": {
    "python": {
     "delete_cmd_postfix": "",
     "delete_cmd_prefix": "del ",
     "library": "var_list.py",
     "varRefreshCmd": "print(var_dic_list())"
    },
    "r": {
     "delete_cmd_postfix": ") ",
     "delete_cmd_prefix": "rm(",
     "library": "var_list.r",
     "varRefreshCmd": "cat(var_dic_list()) "
    }
   },
   "types_to_exclude": [
    "module",
    "function",
    "builtin_function_or_method",
    "instance",
    "_Feature"
   ],
   "window_display": false
  }
 },
 "nbformat": 4,
 "nbformat_minor": 4
}
