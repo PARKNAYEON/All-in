{
 "cells": [
  {
   "cell_type": "code",
   "execution_count": 13,
   "id": "after-fountain",
   "metadata": {},
   "outputs": [],
   "source": [
    "import os\n",
    "import numpy as np\n",
    "import pandas as pd\n",
    "from bs4 import BeautifulSoup as bs\n",
    "import requests"
   ]
  },
  {
   "cell_type": "code",
   "execution_count": 14,
   "id": "expensive-policy",
   "metadata": {},
   "outputs": [
    {
     "name": "stdout",
     "output_type": "stream",
     "text": [
      "Directory changed\n"
     ]
    }
   ],
   "source": [
    "# 디렉토리 재설정\n",
    "try:\n",
    "    os.chdir(\"C:\\\\Users\\\\SAMSUNG\\\\Desktop\\\\나\\\\블로그\\\\웹스크래핑\\\\\") \n",
    "    print(\"Directory changed\")\n",
    "except OSError: # 예외처리\n",
    "    print(\"Can't change the Current Working Directory\")"
   ]
  },
  {
   "cell_type": "code",
   "execution_count": 15,
   "id": "ready-motel",
   "metadata": {},
   "outputs": [],
   "source": [
    "from selenium import webdriver\n",
    "options=webdriver.ChromeOptions()\n",
    "options.add_argument('--privileged')\n",
    "options.add_argument('headless')\n",
    "options.add_argument('--disable-dev-shm-usage')\n",
    "options.add_argument('--no-sandbox')\n",
    "options.add_argument('--ignore-certificate-errors')\n",
    "options.add_argument('--start-maximized')\n",
    "options.add_argument('disable-gpu')  # GPU 사용 안함\n",
    "options.add_argument('lang=ko_KR')  # 언어 설정"
   ]
  },
  {
   "cell_type": "code",
   "execution_count": 21,
   "id": "amazing-short",
   "metadata": {},
   "outputs": [],
   "source": [
    "def web_scraping(code, start_page,end_page, count):\n",
    "    title_result=[]\n",
    "    date_result=[]\n",
    "    like_result=[]\n",
    "    dislike_result=[]\n",
    "    views_result=[]\n",
    "    page=2\n",
    "\n",
    "    driver=webdriver.Chrome(\"chromedriver.exe\",chrome_options=options)\n",
    "    url=\"https://finance.naver.com/item/board.nhn?code=\"+code+\"&page=\"+str(start_page)\n",
    "    driver.get(url)\n",
    "    while (start_page<=end_page):\n",
    "        start_page+=1\n",
    "        html = driver.page_source\n",
    "        soup=bs(html,'lxml')\n",
    "\n",
    "        title_css_selector=\"#content > div.section.inner_sub > table.type2 > tbody > tr > td.title > a\"\n",
    "        title=soup.select(title_css_selector)\n",
    "        for i in title:\n",
    "            title_result.append(i.text.replace('\\t','').replace('\\n',''))\n",
    "    \n",
    "        date_css_selector=\"#content > div.section.inner_sub > table.type2 > tbody > tr > td:nth-of-type(1) > span\"\n",
    "        date=soup.select(date_css_selector)\n",
    "        for j in date:\n",
    "            date_result.append(j.text)\n",
    "    \n",
    "        views_css_selector=\"#content > div.section.inner_sub > table.type2 > tbody > tr > td:nth-of-type(4) > span\"\n",
    "        views=soup.select(views_css_selector)\n",
    "        for k in views:\n",
    "            views_result.append(k.text)\n",
    "    \n",
    "\n",
    "        like_css_selector=\"#content > div.section.inner_sub > table.type2 > tbody > tr > td:nth-of-type(5) > strong\"\n",
    "        like=soup.select(like_css_selector)\n",
    "        for l in like:\n",
    "            like_result.append(l.text)\n",
    "    \n",
    "        dislike_css_selector=\"#content > div.section.inner_sub > table.type2 > tbody > tr > td:nth-of-type(6) > strong\"\n",
    "        dislike=soup.select(dislike_css_selector)\n",
    "        for m in dislike:\n",
    "            dislike_result.append(m.text)\n",
    "        \n",
    "        if (page>10):\n",
    "            nexttb_css_selector=f\"#content > div.section.inner_sub > table:nth-child(3) > tbody > tr > td:nth-child(2) > table > tbody > tr > td.pgR > a\"\n",
    "            nexttb_element=driver.find_element_by_css_selector(nexttb_css_selector)\n",
    "            nexttb_element.click()\n",
    "            page=2\n",
    "            continue\n",
    "    \n",
    "        nextpg_css_selector=f\"#content > div.section.inner_sub > table:nth-child(3) > tbody > tr > td:nth-child(2) > table > tbody > tr > td:nth-child({page}) > a\"\n",
    "        nextpg_element=driver.find_element_by_css_selector(nextpg_css_selector)\n",
    "        nextpg_element.click()\n",
    "        page+=1\n",
    "\n",
    "    concating(code, title_result,date_result,views_result,like_result,dislike_result,count)\n",
    "    driver.quit()"
   ]
  },
  {
   "cell_type": "code",
   "execution_count": 19,
   "id": "reliable-toronto",
   "metadata": {},
   "outputs": [],
   "source": [
    "def concating(code, title_result,date_result,views_result,like_result,dislike_result,count):\n",
    "    concat_data={'title':title_result,\n",
    "                'date':date_result,\n",
    "                'views':views_result,\n",
    "                'like':like_result,\n",
    "                'dislike':dislike_result}\n",
    "    scraping_df=pd.DataFrame(concat_data)\n",
    "    scraping_df.to_csv('./title_crwaling_'+code+'_'+str(count)+'.csv',mode='w',encoding='utf-8-sig',header=True,index=True)"
   ]
  },
  {
   "cell_type": "code",
   "execution_count": 22,
   "id": "hundred-asian",
   "metadata": {},
   "outputs": [
    {
     "name": "stdout",
     "output_type": "stream",
     "text": [
      "기업 코드를 입력해주세요.: 005930\n",
      "첫 번째 페이지를 입력해주세요.: 1\n",
      "마지막 페이지를 입력해주세요.: 200\n"
     ]
    },
    {
     "name": "stderr",
     "output_type": "stream",
     "text": [
      "C:\\Users\\SAMSUNG\\anaconda3\\envs\\project\\lib\\site-packages\\ipykernel_launcher.py:9: DeprecationWarning: use options instead of chrome_options\n",
      "  if __name__ == '__main__':\n"
     ]
    },
    {
     "name": "stdout",
     "output_type": "stream",
     "text": [
      "1번째 스크래핑이 끝났습니다.\n",
      "2번째 스크래핑이 끝났습니다.\n"
     ]
    }
   ],
   "source": [
    "if __name__ == '__main__':\n",
    "    code=input(\"기업 코드를 입력해주세요.: \")\n",
    "    start_page=int(input(\"첫 번째 페이지를 입력해주세요.: \"))\n",
    "    end_page=int(input(\"마지막 페이지를 입력해주세요.: \"))\n",
    "    count=1\n",
    "    while (start_page<=end_page):\n",
    "        if (end_page-start_page<100):\n",
    "            web_scraping(code,start_page,end_page,count)\n",
    "        else:\n",
    "            web_scraping(code,start_page,start_page+100,count)\n",
    "        print(\"%d번째 스크래핑이 끝났습니다.\"%count)\n",
    "        start_page+=101\n",
    "        count+=1"
   ]
  },
  {
   "cell_type": "code",
   "execution_count": null,
   "id": "african-confidence",
   "metadata": {},
   "outputs": [],
   "source": []
  }
 ],
 "metadata": {
  "hide_input": false,
  "kernelspec": {
   "display_name": "Python 3",
   "language": "python",
   "name": "python3"
  },
  "language_info": {
   "codemirror_mode": {
    "name": "ipython",
    "version": 3
   },
   "file_extension": ".py",
   "mimetype": "text/x-python",
   "name": "python",
   "nbconvert_exporter": "python",
   "pygments_lexer": "ipython3",
   "version": "3.7.9"
  },
  "toc": {
   "base_numbering": 1,
   "nav_menu": {},
   "number_sections": true,
   "sideBar": true,
   "skip_h1_title": false,
   "title_cell": "Table of Contents",
   "title_sidebar": "Contents",
   "toc_cell": false,
   "toc_position": {},
   "toc_section_display": true,
   "toc_window_display": false
  },
  "varInspector": {
   "cols": {
    "lenName": 16,
    "lenType": 16,
    "lenVar": 40
   },
   "kernels_config": {
    "python": {
     "delete_cmd_postfix": "",
     "delete_cmd_prefix": "del ",
     "library": "var_list.py",
     "varRefreshCmd": "print(var_dic_list())"
    },
    "r": {
     "delete_cmd_postfix": ") ",
     "delete_cmd_prefix": "rm(",
     "library": "var_list.r",
     "varRefreshCmd": "cat(var_dic_list()) "
    }
   },
   "position": {
    "height": "498.523px",
    "left": "312.364px",
    "right": "20px",
    "top": "84px",
    "width": "800px"
   },
   "types_to_exclude": [
    "module",
    "function",
    "builtin_function_or_method",
    "instance",
    "_Feature"
   ],
   "window_display": false
  }
 },
 "nbformat": 4,
 "nbformat_minor": 5
}
