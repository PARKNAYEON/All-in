{
 "cells": [
  {
   "cell_type": "code",
   "execution_count": null,
   "metadata": {},
   "outputs": [],
   "source": [
    "import selenium\n",
    "import os\n",
    "import numpy as np\n",
    "import pandas as pd"
   ]
  },
  {
   "cell_type": "code",
   "execution_count": null,
   "metadata": {},
   "outputs": [],
   "source": [
    "# 디렉토리 재설정\n",
    "try:\n",
    "    os.chdir(\"C:\\\\Users\\\\SAMSUNG\\\\Desktop\\\\나\\\\블로그\\\\웹스크래핑\\\\\") \n",
    "    print(\"Dictionary changed\")\n",
    "except OSError: # 예외처리\n",
    "    print(\"Can't change the Current Working Dictionary\")"
   ]
  },
  {
   "cell_type": "code",
   "execution_count": null,
   "metadata": {},
   "outputs": [],
   "source": [
    "from selenium import webdriver\n",
    "options=webdriver.ChromeOptions()\n",
    "options.add_argument('--privileged')\n",
    "options.add_argument('headless')\n",
    "options.add_argument('--disable-dev-shm-usage')\n",
    "options.add_argument('--no-sandbox')\n",
    "options.add_argument('--ignore-certificate-errors')\n",
    "options.add_argument('--start-maximized')\n",
    "options.add_argument('disable-gpu')  # GPU 사용 안함\n",
    "options.add_argument('lang=ko_KR')  # 언어 설정"
   ]
  },
  {
   "cell_type": "code",
   "execution_count": null,
   "metadata": {},
   "outputs": [],
   "source": [
    "def crwaling(code, minpage, maxpage, count):\n",
    "    date_result=[]\n",
    "    title_result=[]\n",
    "    page=minpage\n",
    "    \n",
    "    while(page<=maxpage):\n",
    "        driver=webdriver.Chrome(\"chromedriver.exe\",chrome_options=options)\n",
    "        #driver.implicitly_wait(3)\n",
    "\n",
    "        url=\"https://finance.naver.com/item/board.nhn?code=\"+code+\"&page=\"+str(page)\n",
    "        driver.get(url)\n",
    "\n",
    "        title_css_selector=\"#content > div.section.inner_sub > table.type2 > tbody > tr > td.title > a\"\n",
    "        title=driver.find_elements_by_css_selector(title_css_selector)\n",
    "        for i in title:\n",
    "            title_result.append(i.text.split('\\n'))\n",
    "        #driver.implicitly_wait(3)\n",
    "        \n",
    "        date_css_selector=\"#content > div.section.inner_sub > table.type2 > tbody > tr > td:nth-child(1) > span\"\n",
    "        date=driver.find_elements_by_css_selector(date_css_selector)\n",
    "        for j in date:\n",
    "            date_result.append(j.text.split('\\n'))\n",
    "\n",
    "        page+=1\n",
    "        driver.quit()\n",
    "    concating(code,title_result,date_result,count)"
   ]
  },
  {
   "cell_type": "code",
   "execution_count": null,
   "metadata": {},
   "outputs": [],
   "source": [
    "def concating(code, title_result,date_result,count):\n",
    "    concat_data={'title':title_result,\n",
    "                'date':date_result}\n",
    "    crwaling_df=pd.DataFrame(concat_data)\n",
    "    crwaling_df.to_csv('./title_crwaling_'+code+'_'+str(count)+'.csv',mode='w',encoding='utf-8-sig',header=True,index=True)"
   ]
  },
  {
   "cell_type": "code",
   "execution_count": null,
   "metadata": {},
   "outputs": [],
   "source": [
    "code=input(\"기업 코드를 입력해주세요.: \")\n",
    "start_page=int(input(\"첫 번째 페이지를 입력해주세요.: \"))\n",
    "end_page=int(input(\"마지막 페이지를 입력해주세요.: \"))\n",
    "num_code=1\n",
    "while (start_page<=end_page):\n",
    "    if (end_page-start_page<100):\n",
    "        crwaling(code,start_page,end_page,num_code)\n",
    "    else:\n",
    "        crwaling(code,start_page,start_page+100,num_code)\n",
    "    print(\"%d번째 스크래핑이 끝났습니다.\"%num_code)\n",
    "    start_page+=101\n",
    "    num_code+=1"
   ]
  },
  {
   "cell_type": "code",
   "execution_count": null,
   "metadata": {},
   "outputs": [],
   "source": []
  }
 ],
 "metadata": {
  "kernelspec": {
   "display_name": "Python 3",
   "language": "python",
   "name": "python3"
  },
  "language_info": {
   "codemirror_mode": {
    "name": "ipython",
    "version": 3
   },
   "file_extension": ".py",
   "mimetype": "text/x-python",
   "name": "python",
   "nbconvert_exporter": "python",
   "pygments_lexer": "ipython3",
   "version": "3.7.9"
  }
 },
 "nbformat": 4,
 "nbformat_minor": 4
}
