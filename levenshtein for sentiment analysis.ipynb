{
 "cells": [
  {
   "cell_type": "code",
   "execution_count": 1,
   "id": "peripheral-listening",
   "metadata": {},
   "outputs": [],
   "source": [
    "import pandas as pd\n",
    "import numpy as np\n",
    "import os\n",
    "from jamo import h2j, j2hcj"
   ]
  },
  {
   "cell_type": "code",
   "execution_count": 2,
   "id": "mighty-general",
   "metadata": {},
   "outputs": [
    {
     "name": "stdout",
     "output_type": "stream",
     "text": [
      "Directory changed\n"
     ]
    }
   ],
   "source": [
    "# 디렉토리 재설정\n",
    "try:\n",
    "    os.chdir(\"C:\\\\Users\\\\SAMSUNG\\\\Desktop\\\\감성사전\\\\\") \n",
    "    print(\"Directory changed\")\n",
    "except OSError: # 예외처리\n",
    "    print(\"Can't change the Current Working Directory\")"
   ]
  },
  {
   "cell_type": "code",
   "execution_count": 12,
   "id": "physical-pierre",
   "metadata": {},
   "outputs": [],
   "source": [
    "def change_cost(a,b):\n",
    "    if a==b:\n",
    "        return 0\n",
    "    return round(levenshtein(j2hcj(h2j(a)),j2hcj(h2j(b)))/3,2)"
   ]
  },
  {
   "cell_type": "code",
   "execution_count": 13,
   "id": "interesting-neutral",
   "metadata": {},
   "outputs": [],
   "source": [
    "def levenshtein(a, b):\n",
    "    al=len(a)\n",
    "    bl=len(b)\n",
    "    if a==b: #문자열이 같을 때\n",
    "        return 0\n",
    "    if al<bl:\n",
    "        return levenshtein(b,a)\n",
    "    if b=='': #두 번째 문자열이 공백일 경우\n",
    "        return al\n",
    "    \n",
    "    matrix=np.zeros((al+1,bl+1)) #모든값이 0인 행렬 반환\n",
    "    \n",
    "    for i in range(al+1): #초기화\n",
    "        matrix[i][0]=i\n",
    "    for j in range(bl+1):\n",
    "        matrix[0][j]=j\n",
    "    \n",
    "    for i in range(1, al+1):\n",
    "        aw=a[i-1]\n",
    "        for j in range(1, bl+1):\n",
    "            bw=b[j-1]\n",
    "            matrix[i][j]=min({\n",
    "                matrix[i-1][j]+1, #삭제\n",
    "                matrix[i][j-1]+1, #삽입\n",
    "                matrix[i-1][j-1]+(aw!=bw) #다를경우 1추가\n",
    "            })\n",
    "    return matrix[-1][-1] #행렬의 오른쪽 최하단값 반환"
   ]
  },
  {
   "cell_type": "code",
   "execution_count": 14,
   "id": "nearby-kentucky",
   "metadata": {},
   "outputs": [],
   "source": [
    "def jamo_levenshtein(a, b):\n",
    "    al=len(a)\n",
    "    bl=len(b)\n",
    "    if a==b: #문자열이 같을 때\n",
    "        return 0\n",
    "    if al<bl:\n",
    "        return jamo_levenshtein(b,a)\n",
    "    if b=='': #두 번째 문자열이 공백일 경우\n",
    "        return al\n",
    "\n",
    "    matrix=np.zeros((al+1,bl+1)) #모든값이 0인 행렬 반환\n",
    "    \n",
    "    for i in range(al+1): #초기화\n",
    "        matrix[i][0]=i\n",
    "    for j in range(bl+1):\n",
    "        matrix[0][j]=j\n",
    "    \n",
    "    for i in range(1, al+1):\n",
    "        aw=a[i-1]\n",
    "        for j in range(1, bl+1):\n",
    "            bw=b[j-1]\n",
    "            matrix[i][j]=min({\n",
    "                matrix[i-1][j]+1, #삭제\n",
    "                matrix[i][j-1]+1, #삽입\n",
    "                matrix[i-1][j-1]+change_cost(aw,bw) #다를경우 1추가\n",
    "            })\n",
    "    return matrix[-1][-1] "
   ]
  },
  {
   "cell_type": "code",
   "execution_count": 16,
   "id": "afraid-scene",
   "metadata": {},
   "outputs": [
    {
     "name": "stdout",
     "output_type": "stream",
     "text": [
      "0 가다\n",
      "0.33 사다\n",
      "0.67 많다\n",
      "0.67 받다\n",
      "0.67 치다\n",
      "0.67 추다\n",
      "0.67 크다\n",
      "0.67 가즈\n",
      "0.67 내다\n",
      "0.67 담다\n",
      "0.67 매다\n",
      "0.67 날다\n",
      "0.67 켜다\n",
      "0.66 감사\n",
      "0.67 낫다\n",
      "0.67 쥐다\n",
      "0.33 갖다\n",
      "0.67 곱다\n",
      "0.67 쏘다\n",
      "0.66 고가\n",
      "0.66 기도\n",
      "0.67 달다\n",
      "0.67 밝다\n",
      "0.66 하따\n",
      "0.67 쏘다\n"
     ]
    }
   ],
   "source": [
    "data=pd.read_table('긍정_최종_감성사전.txt',sep='\\n',header=None)\n",
    "base=data[0][0]\n",
    "for i in data[0]:\n",
    "    if jamo_levenshtein(base,i)<1.0:\n",
    "        print(jamo_levenshtein(base,i), i)"
   ]
  },
  {
   "cell_type": "code",
   "execution_count": null,
   "id": "quantitative-synthesis",
   "metadata": {},
   "outputs": [],
   "source": []
  }
 ],
 "metadata": {
  "hide_input": false,
  "kernelspec": {
   "display_name": "Python 3",
   "language": "python",
   "name": "python3"
  },
  "language_info": {
   "codemirror_mode": {
    "name": "ipython",
    "version": 3
   },
   "file_extension": ".py",
   "mimetype": "text/x-python",
   "name": "python",
   "nbconvert_exporter": "python",
   "pygments_lexer": "ipython3",
   "version": "3.8.5"
  },
  "toc": {
   "base_numbering": 1,
   "nav_menu": {},
   "number_sections": true,
   "sideBar": true,
   "skip_h1_title": false,
   "title_cell": "Table of Contents",
   "title_sidebar": "Contents",
   "toc_cell": false,
   "toc_position": {},
   "toc_section_display": true,
   "toc_window_display": false
  },
  "varInspector": {
   "cols": {
    "lenName": 16,
    "lenType": 16,
    "lenVar": 40
   },
   "kernels_config": {
    "python": {
     "delete_cmd_postfix": "",
     "delete_cmd_prefix": "del ",
     "library": "var_list.py",
     "varRefreshCmd": "print(var_dic_list())"
    },
    "r": {
     "delete_cmd_postfix": ") ",
     "delete_cmd_prefix": "rm(",
     "library": "var_list.r",
     "varRefreshCmd": "cat(var_dic_list()) "
    }
   },
   "types_to_exclude": [
    "module",
    "function",
    "builtin_function_or_method",
    "instance",
    "_Feature"
   ],
   "window_display": false
  }
 },
 "nbformat": 4,
 "nbformat_minor": 5
}
