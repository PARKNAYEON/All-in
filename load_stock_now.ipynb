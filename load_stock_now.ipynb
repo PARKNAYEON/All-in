{
 "cells": [
  {
   "cell_type": "code",
   "execution_count": 1,
   "metadata": {},
   "outputs": [],
   "source": [
    "import os\n",
    "import numpy as np\n",
    "import pandas as pd\n",
    "from bs4 import BeautifulSoup as bs\n",
    "import requests"
   ]
  },
  {
   "cell_type": "code",
   "execution_count": 2,
   "metadata": {},
   "outputs": [
    {
     "name": "stdout",
     "output_type": "stream",
     "text": [
      "Directory changed\n"
     ]
    }
   ],
   "source": [
    "# 디렉토리 재설정\n",
    "try:\n",
    "    os.chdir(\"C:\\\\Users\\\\SAMSUNG\\\\Desktop\\\\실시간 주가데이터\\\\\") \n",
    "    print(\"Directory changed\")\n",
    "except OSError: # 예외처리\n",
    "    print(\"Can't change the Current Working Directory\")"
   ]
  },
  {
   "cell_type": "code",
   "execution_count": 3,
   "metadata": {},
   "outputs": [],
   "source": [
    "from selenium import webdriver\n",
    "from selenium.common.exceptions import NoSuchElementException\n",
    "options=webdriver.ChromeOptions()\n",
    "options.add_argument('--privileged')\n",
    "options.add_argument('headless')\n",
    "options.add_argument('--disable-dev-shm-usage')\n",
    "options.add_argument('--no-sandbox')\n",
    "options.add_argument('--ignore-certificate-errors')\n",
    "options.add_argument('--start-maximized')\n",
    "options.add_argument('disable-gpu')  # GPU 사용 안함\n",
    "options.add_argument('lang=ko_KR')  # 언어 설정"
   ]
  },
  {
   "cell_type": "code",
   "execution_count": 4,
   "metadata": {},
   "outputs": [],
   "source": [
    "def stock_scraping(code, stock_date,stock_time):\n",
    "    time_result=[]\n",
    "    price_result=[]\n",
    "    pivot=1\n",
    "    \n",
    "    driver=webdriver.Chrome(\"chromedriver.exe\", options=options)\n",
    "    url='https://finance.naver.com/item/sise_time.nhn?code='+code+'&thistime='+str(stock_date)+str('stock_time')\n",
    "    driver.get(url)\n",
    "    \n",
    "    while True:\n",
    "        if pivot==1:\n",
    "            page=pivot\n",
    "        elif(pivot<=10):\n",
    "            page=pivot+1\n",
    "        else:\n",
    "            if(pivot%10==0):\n",
    "                page=12\n",
    "            else:\n",
    "                page=(pivot%10)+2\n",
    "            \n",
    "        html = driver.page_source\n",
    "        soup=bs(html,'lxml')\n",
    "\n",
    "        time_css_selector=\"body > table.type2 > tbody > tr > td:nth-of-type(1) > span\"\n",
    "        now_time=soup.select(time_css_selector)\n",
    "        for i in now_time:\n",
    "            time_result.append(i.text)\n",
    "    \n",
    "        price_css_selector=\"body > table.type2 > tbody > tr > td:nth-of-type(2) > span\"\n",
    "        price=soup.select(price_css_selector)\n",
    "        for j in price:\n",
    "            price_result.append(j.text)\n",
    "        \n",
    "        nextpg_css_selector=f\"body > table.Nnavi > tbody > tr > td:nth-child({page+1}) > a\"    \n",
    "        try:\n",
    "            nextpg_element=driver.find_element_by_css_selector(nextpg_css_selector)\n",
    "            nextpg_element.click()\n",
    "        except NoSuchElementException:\n",
    "            print(\"마지막 페이지\")\n",
    "            break\n",
    "        pivot+=1\n",
    "\n",
    "    concating(code, time_result,price_result,stock_time)\n",
    "    driver.quit()"
   ]
  },
  {
   "cell_type": "code",
   "execution_count": 5,
   "metadata": {},
   "outputs": [],
   "source": [
    "def concating(code, time_result, price_result, stock_time):\n",
    "    date_result=stock_date\n",
    "    concat_data={'date':date_result,\n",
    "                 'time':time_result,\n",
    "                'price':price_result}\n",
    "    scraping_df=pd.DataFrame(concat_data)\n",
    "    scraping_df.to_csv('./stock_crwaling_'+code+'_'+str(date_result)+'.csv',mode='w',encoding='utf-8-sig',header=True,index=True)"
   ]
  },
  {
   "cell_type": "code",
   "execution_count": 6,
   "metadata": {},
   "outputs": [
    {
     "name": "stdout",
     "output_type": "stream",
     "text": [
      "기업 코드를 입력해주세요.: 005930\n",
      "날짜를 입력해주세요.(예시: 20210207): 20210209\n",
      "시간을 입력해주세요.(예시: 161059): 161059\n",
      "마지막 페이지\n",
      "완료\n"
     ]
    }
   ],
   "source": [
    "if __name__ == '__main__':\n",
    "    code=input(\"기업 코드를 입력해주세요.: \")\n",
    "    stock_date=int(input(\"날짜를 입력해주세요.(예시: 20210207): \"))\n",
    "    stock_time=int(input(\"시간을 입력해주세요.(예시: 161059): \"))\n",
    "    stock_scraping(code,stock_date,stock_time)\n",
    "    print(\"완료\")"
   ]
  },
  {
   "cell_type": "code",
   "execution_count": null,
   "metadata": {},
   "outputs": [],
   "source": []
  }
 ],
 "metadata": {
  "hide_input": false,
  "kernelspec": {
   "display_name": "Python 3",
   "language": "python",
   "name": "python3"
  },
  "language_info": {
   "codemirror_mode": {
    "name": "ipython",
    "version": 3
   },
   "file_extension": ".py",
   "mimetype": "text/x-python",
   "name": "python",
   "nbconvert_exporter": "python",
   "pygments_lexer": "ipython3",
   "version": "3.8.5"
  },
  "toc": {
   "base_numbering": 1,
   "nav_menu": {},
   "number_sections": true,
   "sideBar": true,
   "skip_h1_title": false,
   "title_cell": "Table of Contents",
   "title_sidebar": "Contents",
   "toc_cell": false,
   "toc_position": {},
   "toc_section_display": true,
   "toc_window_display": false
  },
  "varInspector": {
   "cols": {
    "lenName": 16,
    "lenType": 16,
    "lenVar": 40
   },
   "kernels_config": {
    "python": {
     "delete_cmd_postfix": "",
     "delete_cmd_prefix": "del ",
     "library": "var_list.py",
     "varRefreshCmd": "print(var_dic_list())"
    },
    "r": {
     "delete_cmd_postfix": ") ",
     "delete_cmd_prefix": "rm(",
     "library": "var_list.r",
     "varRefreshCmd": "cat(var_dic_list()) "
    }
   },
   "types_to_exclude": [
    "module",
    "function",
    "builtin_function_or_method",
    "instance",
    "_Feature"
   ],
   "window_display": false
  }
 },
 "nbformat": 4,
 "nbformat_minor": 5
}
